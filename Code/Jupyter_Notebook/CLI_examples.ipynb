{
 "cells": [
  {
   "cell_type": "markdown",
   "id": "4dc743ed",
   "metadata": {},
   "source": [
    "## Command Line Interface (CLI) for iRobot™ Education's Create®3 Robot.\n",
    "\n",
    "In order to run code in the command line from the Jupyter Notebook we must use an ```!``` before every line. "
   ]
  },
  {
   "cell_type": "markdown",
   "id": "c3863825",
   "metadata": {},
   "source": [
    "The three most basic controls in ROS 2 are to publish and subscribe to a topic and send actions to the robot. This is how you send information (publishing), receive information (subscribing), and command the robot to move (send an action). Lets test these out!\n",
    "\n",
    "**IMPORTANT!** Change the Namespace in each command to match the Namespace of your robot. It will take a minute for each line of code to run. Be patient and wait for the printed output as well as a physical change to your robot. "
   ]
  },
  {
   "cell_type": "markdown",
   "id": "f2fd6d9a",
   "metadata": {},
   "source": [
    "### Publish to a topic:\n",
    "\n",
    "```ros2 topic pub /[Namespace]/[topic] [message_type] \"{[arguments]}\" ``` \n",
    "\n",
    "To find the list of topics & the message types run "
   ]
  },
  {
   "cell_type": "code",
   "execution_count": null,
   "id": "7f4ea884",
   "metadata": {},
   "outputs": [],
   "source": [
    "!ros2 topic list -t"
   ]
  },
  {
   "cell_type": "markdown",
   "id": "f0ee334f",
   "metadata": {},
   "source": [
    "Below is an example of how to change the colors of the LEDs on the robot. Run the code cell and wait for the printed outputs. "
   ]
  },
  {
   "cell_type": "code",
   "execution_count": null,
   "id": "1c6adcf8",
   "metadata": {
    "scrolled": true
   },
   "outputs": [],
   "source": [
    "!ros2 topic pub /[Namespace]/cmd_lightring irobot_create_msgs/msg/LightringLeds \"{override_system: true, leds: [{red: 255, green: 0, blue: 0}, {red: 0, green: 255, blue: 0}, {red: 0, green: 0, blue: 255}, {red: 255, green: 255, blue: 0}, {red: 255, green: 0, blue: 255}, {red: 0, green: 255, blue: 255}]}\" -1"
   ]
  },
  {
   "cell_type": "markdown",
   "id": "bc80f53a",
   "metadata": {},
   "source": [
    "Now edit the line below to play a happy audio note sequence: "
   ]
  },
  {
   "cell_type": "code",
   "execution_count": null,
   "id": "411142b3",
   "metadata": {},
   "outputs": [],
   "source": [
    "!ros2 topic pub /[Namespace]/[topic] [message_type] \"{append: false, notes: [{frequency: 392, max_runtime: {sec: 0,nanosec: 177500000}}, {frequency: 523, max_runtime: {sec: 0,nanosec: 355000000}}, {frequency: 587, max_runtime: {sec: 0,nanosec: 177500000}}, {frequency: 784, max_runtime: {sec: 0,nanosec: 533000000}}]}\" -1"
   ]
  },
  {
   "cell_type": "markdown",
   "id": "4f109b95",
   "metadata": {},
   "source": [
    "### Subscribe to a topic:\n",
    "\n",
    "```ros2 topic echo /[Namespace]/[topic]```"
   ]
  },
  {
   "cell_type": "markdown",
   "id": "9081743e",
   "metadata": {},
   "source": [
    "The subscriber below will tell us the battery state. Use **the square stop button above to stop recieving information** and shut down the subscriber once you see what it does. "
   ]
  },
  {
   "cell_type": "code",
   "execution_count": null,
   "id": "cf55a77d",
   "metadata": {},
   "outputs": [],
   "source": [
    "!ros2 topic echo /[Namespace]/battery_state"
   ]
  },
  {
   "cell_type": "markdown",
   "id": "ca082090",
   "metadata": {},
   "source": [
    "\n",
    "### Send an action: \n",
    "\n",
    "``` ros2 action send_goal /[Namespace]/[action action_type] \"{[values]}\"```\n",
    "\n",
    "To find the list of actions & action types run\n"
   ]
  },
  {
   "cell_type": "code",
   "execution_count": null,
   "id": "3a4cb434",
   "metadata": {},
   "outputs": [],
   "source": [
    "!ros2 action list -t"
   ]
  },
  {
   "cell_type": "markdown",
   "id": "87768b40",
   "metadata": {},
   "source": [
    "The action below undocks the robot. Run it then write your own line of code to dock the robot. "
   ]
  },
  {
   "cell_type": "code",
   "execution_count": null,
   "id": "627dcef3",
   "metadata": {},
   "outputs": [],
   "source": [
    "!ros2 action send_goal /[Namespace]/undock irobot_create_msgs/action/Undock \"{}\""
   ]
  },
  {
   "cell_type": "code",
   "execution_count": null,
   "id": "a0a82105",
   "metadata": {},
   "outputs": [],
   "source": [
    "!ros2 action send_goal /[Namespace]/[action] [action_type] \"{}\" #write code here to dock the robot "
   ]
  },
  {
   "cell_type": "markdown",
   "id": "61ca24ca",
   "metadata": {},
   "source": [
    "### Batch Files:\n",
    "\n",
    "To run multiple lines of code in a row we can use something called a Batch file. The example batch file below will change the color of the lights on the robot, make it spin in two circles and then set the color of the lights back to white. "
   ]
  },
  {
   "cell_type": "code",
   "execution_count": null,
   "id": "3d0bbaf6",
   "metadata": {
    "scrolled": true
   },
   "outputs": [],
   "source": [
    "!ros2 topic pub /[Namespace]/cmd_lightring irobot_create_msgs/msg/LightringLeds \"{override_system: true, leds: [{red: 255, green: 0, blue: 150}, {red: 0, green: 200, blue: 75}, {red: 100, green: 150, blue: 200}, {red: 200, green: 40, blue: 150}, {red: 255, green: 0, blue: 0}, {red: 0, green: 150, blue: 175}]}\" -1\n",
    "!ros2 action send_goal /[Namespace]/rotate_angle irobot_create_msgs/action/RotateAngle \"{angle: 6,max_rotation_speed: 1.0}\"\n",
    "!ros2 topic pub /[Namespace]/cmd_lightring irobot_create_msgs/msg/LightringLeds \"{override_system: false, leds: [{red: 255, green: 0, blue: 0}, {red: 0, green: 255, blue: 0}, {red: 0, green: 0, blue: 255}, {red: 255, green: 255, blue: 0}, {red: 255, green: 0, blue: 255}, {red: 0, green: 255, blue: 255}]}\" -1"
   ]
  },
  {
   "cell_type": "markdown",
   "id": "35a7252f",
   "metadata": {},
   "source": [
    "Now write your own Batch file to drive it a certain distance, play an audio note, turn around and drive the same distance back. "
   ]
  },
  {
   "cell_type": "code",
   "execution_count": null,
   "id": "d821cf6a",
   "metadata": {},
   "outputs": [],
   "source": [
    "!ros2 action send_goal #edit this line of code to drive the robot forward 0.5 m\n",
    "!ros2 topic pub #edit this line of code to play an audio note\n",
    "!ros2 action send_goal #edit this line to turn the robot 180 degrees\n",
    "!ros2 action send_goal #edit this line of code to drive the robot 0.5 m back "
   ]
  }
 ],
 "metadata": {
  "kernelspec": {
   "display_name": "Python 3 (ipykernel)",
   "language": "python",
   "name": "python3"
  },
  "language_info": {
   "codemirror_mode": {
    "name": "ipython",
    "version": 3
   },
   "file_extension": ".py",
   "mimetype": "text/x-python",
   "name": "python",
   "nbconvert_exporter": "python",
   "pygments_lexer": "ipython3",
   "version": "3.8.10"
  }
 },
 "nbformat": 4,
 "nbformat_minor": 5
}
